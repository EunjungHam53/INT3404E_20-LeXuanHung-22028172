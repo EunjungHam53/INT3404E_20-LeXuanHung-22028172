{
  "cells": [
    {
      "cell_type": "code",
      "execution_count": 2,
      "metadata": {
        "id": "e8SpNjvYBZ9o"
      },
      "outputs": [],
      "source": [
        "import io\n",
        "import ipywidgets as widgets\n",
        "import matplotlib.pyplot as plt\n",
        "import PIL.Image\n",
        "import numpy as np\n",
        "import urllib\n",
        "from skimage.transform import resize\n",
        "from matplotlib.image import imread\n",
        "import os\n",
        "from IPython.display import display\n",
        "from skimage import io as io_url\n",
        "import cv2\n",
        "from PIL import Image"
      ]
    },
    {
      "cell_type": "code",
      "execution_count": 3,
      "metadata": {
        "id": "BEZerYH0A49C"
      },
      "outputs": [
        {
          "data": {
            "application/vnd.jupyter.widget-view+json": {
              "model_id": "750b6f10baaa4349829d42791348b61e",
              "version_major": 2,
              "version_minor": 0
            },
            "text/plain": [
              "HBox(children=(Image(value=b'\\x89PNG\\r\\n\\x1a\\n\\x00\\x00\\x00\\rIHDR\\x00\\x00\\x01,\\x00\\x00\\x01,\\x08\\x00\\x00\\x00\\x00…"
            ]
          },
          "metadata": {},
          "output_type": "display_data"
        },
        {
          "data": {
            "application/vnd.jupyter.widget-view+json": {
              "model_id": "6b8c00a937fd4a3a8634ada2279ea227",
              "version_major": 2,
              "version_minor": 0
            },
            "text/plain": [
              "FloatSlider(value=0.0, description='Inner radius', max=1.0, step=0.01)"
            ]
          },
          "metadata": {},
          "output_type": "display_data"
        },
        {
          "data": {
            "application/vnd.jupyter.widget-view+json": {
              "model_id": "db75d157441e4ae7b47cf7ca56a08b2b",
              "version_major": 2,
              "version_minor": 0
            },
            "text/plain": [
              "FloatSlider(value=0.72, description='Outer radius', max=0.72, step=0.01)"
            ]
          },
          "metadata": {},
          "output_type": "display_data"
        }
      ],
      "source": [
        "# Create image widgets\n",
        "image3_spatial = widgets.Image(format='png', width=500, height=500, description='Spatial')\n",
        "image3_freq    = widgets.Image(format='png', width=500, height=500, description='Frequency')\n",
        "sidebyside     = widgets.HBox([image3_spatial, image3_freq])\n",
        "\n",
        "# Create slider/select widgets\n",
        "slider_inner   = widgets.FloatSlider(value=0,      min=0, max=1,      step=0.01, description='Inner radius')\n",
        "slider_outer   = widgets.FloatSlider(value=1.44/2, min=0, max=1.44/2, step=0.01, description='Outer radius')\n",
        "\n",
        "buf            = io.BytesIO()\n",
        "\n",
        "orig_img = io_url.imread('https://img2.zergnet.com/2309662_300.jpg')\n",
        "orig_img = np.mean(orig_img, -1)\n",
        "\n",
        "x = np.fft.fftfreq(orig_img.shape[0]);\n",
        "y = np.fft.fftfreq(orig_img.shape[1]);\n",
        "\n",
        "xv, yv = np.meshgrid(x, y)\n",
        "xv = np.fft.fftshift(xv)\n",
        "yv = np.fft.fftshift(yv)\n",
        "\n",
        "def filter_frequency(orig_img, mask):\n",
        "  \"\"\"\n",
        "  You need to remove frequency based on the given mask.\n",
        "  Params:\n",
        "    orig_img: numpy image\n",
        "    mask: same shape with orig_img indicating which frequency hold or remove\n",
        "  Output:\n",
        "    f_img: frequency image after applying mask\n",
        "    img: image after applying mask\n",
        "  \"\"\"\n",
        "  # Step 1: Transform the image to the frequency domain using fft2\n",
        "  f_img = np.fft.fft2(orig_img)\n",
        "  # Step 2: Shift the frequency coefficients to the center using fftshift\n",
        "  f_img_shifted = np.fft.fftshift(f_img)\n",
        "  # Step 3: Filter the frequency domain representation using the given mask\n",
        "  f_img_filtered = f_img_shifted * mask\n",
        "  # Step 4: Shift the frequency coefficients back to their original positions using ifftshift\n",
        "  f_img_filtered_shifted = np.fft.ifftshift(f_img_filtered)\n",
        "  # Step 5: Invert the transform using ifft2 to get the filtered image in the spatial domain\n",
        "  img = np.abs(np.fft.ifft2(f_img_filtered_shifted))\n",
        "  f_img_filtered = np.abs(f_img_filtered)\n",
        "  return f_img_filtered, img\n",
        "\n",
        "\n",
        "\n",
        "def on_value_change3(change):\n",
        "  mask = (np.sqrt(xv**2 + yv**2) < slider_outer.value) & \\\n",
        "          (np.sqrt(xv**2 + yv**2) >= slider_inner.value)\n",
        "  mask = np.float32(mask)\n",
        "\n",
        "  fimg, img = filter_frequency(orig_img, mask)\n",
        "  buf.seek(0)\n",
        "  tmp = PIL.Image.fromarray(255*img/(img.max()+0.0001))\n",
        "  tmp = tmp.convert('L')\n",
        "  tmp.save(buf, 'png')\n",
        "  image3_spatial.value = buf.getvalue()\n",
        "\n",
        "  buf.seek(0)\n",
        "  tmp = PIL.Image.fromarray(255*np.log(0.0001*fimg + 1))\n",
        "  tmp = tmp.convert('L')\n",
        "  tmp.save(buf, 'png')\n",
        "  image3_freq.value = buf.getvalue()\n",
        "\n",
        "\n",
        "slider_inner.observe(on_value_change3, names='value')\n",
        "slider_outer.observe(on_value_change3, names='value')\n",
        "\n",
        "on_value_change3(0)\n",
        "\n",
        "display(sidebyside)\n",
        "display(slider_inner)\n",
        "display(slider_outer)"
      ]
    },
    {
      "cell_type": "code",
      "execution_count": 4,
      "metadata": {
        "id": "uVrTefqfDt4S"
      },
      "outputs": [],
      "source": [
        "def read_img(img_path, img_size=(512, 512)):\n",
        "  \"\"\"\n",
        "    + Đọc ảnh\n",
        "    + Chuyển thành grayscale\n",
        "    + Thay đổi kích thước ảnh thành img_size\n",
        "  \"\"\"\n",
        "  img = cv2.imread(img_path, 0)\n",
        "  img = cv2.resize(img, img_size)\n",
        "  return img\n",
        "\n",
        "def create_hybrid_img(img1, img2, r):\n",
        "  \"\"\"\n",
        "  Create hydrid image\n",
        "  Params:\n",
        "    img1: numpy image 1\n",
        "    img2: numpy image 2\n",
        "    r: radius that defines the filled circle of frequency of image 1. Refer to the homework title to know more.\n",
        "  \"\"\"\n",
        "  # You need to implement the function\n",
        "  # Step 1: Transform the images to the frequency domain using fft2\n",
        "  f_img1 = np.fft.fft2(img1)\n",
        "  f_img2 = np.fft.fft2(img2)\n",
        "  \n",
        "  # Step 2: Shift the frequency coefficients to the center using fftshift\n",
        "  f_img1_shifted = np.fft.fftshift(f_img1)\n",
        "  f_img2_shifted = np.fft.fftshift(f_img2)\n",
        "  \n",
        "  # Step 3: Create a mask based on the given radius\n",
        "  rows, cols = img1.shape\n",
        "  center_x, center_y = rows // 2, cols // 2\n",
        "  y, x = np.ogrid[:rows, :cols]\n",
        "  dist_from_center = np.sqrt((x - center_x)**2 + (y - center_y)**2)\n",
        "  mask = dist_from_center <= r\n",
        "  mask = np.float32(mask)\n",
        "  \n",
        "  # Step 4: Combine the frequency components of the two images using the mask\n",
        "  f_hybrid_shifted = f_img1_shifted * mask + f_img2_shifted * (1 - mask)\n",
        "  \n",
        "  # Step 5: Shift the frequency coefficients back to their original positions using ifftshift\n",
        "  f_hybrid = np.fft.ifftshift(f_hybrid_shifted)\n",
        "  \n",
        "  # Step 6: Invert the transform using ifft2 to get the hybrid image in the spatial domain\n",
        "  hybrid_img = np.real(ifft2(f_hybrid))\n",
        "  \n",
        "  return hybrid_img"
      ]
    },
    {
      "cell_type": "code",
      "execution_count": 1,
      "metadata": {
        "id": "uB8hOFkPDxzS"
      },
      "outputs": [
        {
          "ename": "NameError",
          "evalue": "name 'read_img' is not defined",
          "output_type": "error",
          "traceback": [
            "\u001b[1;31m---------------------------------------------------------------------------\u001b[0m",
            "\u001b[1;31mNameError\u001b[0m                                 Traceback (most recent call last)",
            "Cell \u001b[1;32mIn[1], line 3\u001b[0m\n\u001b[0;32m      1\u001b[0m image_1_path \u001b[38;5;241m=\u001b[39m \u001b[38;5;124m\"\u001b[39m\u001b[38;5;124mex1_images/momo.png\u001b[39m\u001b[38;5;124m\"\u001b[39m \u001b[38;5;66;03m# <-- need to change\u001b[39;00m\n\u001b[0;32m      2\u001b[0m image_2_path \u001b[38;5;241m=\u001b[39m \u001b[38;5;124m\"\u001b[39m\u001b[38;5;124mhttps://img2.zergnet.com/2309662_300.jpg\u001b[39m\u001b[38;5;124m\"\u001b[39m \u001b[38;5;66;03m# <-- need to change\u001b[39;00m\n\u001b[1;32m----> 3\u001b[0m img_1 \u001b[38;5;241m=\u001b[39m \u001b[43mread_img\u001b[49m(image_1_path)\n\u001b[0;32m      4\u001b[0m img_2 \u001b[38;5;241m=\u001b[39m read_img(image_2_path)\n\u001b[0;32m      5\u001b[0m hybrid_img \u001b[38;5;241m=\u001b[39m create_hybrid_img(img_2, img_1, \u001b[38;5;241m14\u001b[39m)\n",
            "\u001b[1;31mNameError\u001b[0m: name 'read_img' is not defined"
          ]
        }
      ],
      "source": [
        "image_1_path = \"ex1_images/momo.png\" # <-- need to change\n",
        "image_2_path = \"https://img2.zergnet.com/2309662_300.jpg\" # <-- need to change\n",
        "img_1 = read_img(image_1_path)\n",
        "img_2 = read_img(image_2_path)\n",
        "hybrid_img = create_hybrid_img(img_2, img_1, 14)\n",
        "fig, axes = plt.subplots(nrows=1, ncols=3, figsize=(18, 15))\n",
        "axes[0].imshow(img_1, cmap=\"gray\")\n",
        "axes[0].axis(\"off\")\n",
        "axes[1].imshow(img_2, cmap=\"gray\")\n",
        "axes[1].axis(\"off\")\n",
        "axes[2].imshow(hybrid_img, cmap=\"gray\")\n",
        "axes[2].axis(\"off\")"
      ]
    }
  ],
  "metadata": {
    "colab": {
      "provenance": []
    },
    "kernelspec": {
      "display_name": "Python 3",
      "name": "python3"
    },
    "language_info": {
      "codemirror_mode": {
        "name": "ipython",
        "version": 3
      },
      "file_extension": ".py",
      "mimetype": "text/x-python",
      "name": "python",
      "nbconvert_exporter": "python",
      "pygments_lexer": "ipython3",
      "version": "3.11.4"
    }
  },
  "nbformat": 4,
  "nbformat_minor": 0
}
